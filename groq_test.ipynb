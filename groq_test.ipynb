{
  "nbformat": 4,
  "nbformat_minor": 0,
  "metadata": {
    "colab": {
      "provenance": [],
      "authorship_tag": "ABX9TyN0VcWZhhPeu5W/Dj+IMKUF",
      "include_colab_link": true
    },
    "kernelspec": {
      "name": "python3",
      "display_name": "Python 3"
    },
    "language_info": {
      "name": "python"
    }
  },
  "cells": [
    {
      "cell_type": "markdown",
      "metadata": {
        "id": "view-in-github",
        "colab_type": "text"
      },
      "source": [
        "<a href=\"https://colab.research.google.com/github/farisbasha/ai_workspace/blob/main/groq_test.ipynb\" target=\"_parent\"><img src=\"https://colab.research.google.com/assets/colab-badge.svg\" alt=\"Open In Colab\"/></a>"
      ]
    },
    {
      "cell_type": "code",
      "execution_count": null,
      "metadata": {
        "id": "-x_WLG1ojj1g"
      },
      "outputs": [],
      "source": [
        "from google.colab import userdata\n",
        "API_KEY = userdata.get('GROQAPI')\n"
      ]
    },
    {
      "cell_type": "code",
      "source": [
        "!pip install groq\n"
      ],
      "metadata": {
        "colab": {
          "base_uri": "https://localhost:8080/"
        },
        "id": "0z0Tdk5rkATn",
        "outputId": "4902d86c-aff5-429e-da29-b212fcadceb9"
      },
      "execution_count": 3,
      "outputs": [
        {
          "output_type": "stream",
          "name": "stdout",
          "text": [
            "Collecting groq\n",
            "  Downloading groq-0.5.0-py3-none-any.whl (75 kB)\n",
            "\u001b[2K     \u001b[90m━━━━━━━━━━━━━━━━━━━━━━━━━━━━━━━━━━━━━━━━\u001b[0m \u001b[32m75.0/75.0 kB\u001b[0m \u001b[31m1.1 MB/s\u001b[0m eta \u001b[36m0:00:00\u001b[0m\n",
            "\u001b[?25hRequirement already satisfied: anyio<5,>=3.5.0 in /usr/local/lib/python3.10/dist-packages (from groq) (3.7.1)\n",
            "Requirement already satisfied: distro<2,>=1.7.0 in /usr/lib/python3/dist-packages (from groq) (1.7.0)\n",
            "Collecting httpx<1,>=0.23.0 (from groq)\n",
            "  Downloading httpx-0.27.0-py3-none-any.whl (75 kB)\n",
            "\u001b[2K     \u001b[90m━━━━━━━━━━━━━━━━━━━━━━━━━━━━━━━━━━━━━━━━\u001b[0m \u001b[32m75.6/75.6 kB\u001b[0m \u001b[31m4.8 MB/s\u001b[0m eta \u001b[36m0:00:00\u001b[0m\n",
            "\u001b[?25hRequirement already satisfied: pydantic<3,>=1.9.0 in /usr/local/lib/python3.10/dist-packages (from groq) (2.7.0)\n",
            "Requirement already satisfied: sniffio in /usr/local/lib/python3.10/dist-packages (from groq) (1.3.1)\n",
            "Requirement already satisfied: typing-extensions<5,>=4.7 in /usr/local/lib/python3.10/dist-packages (from groq) (4.11.0)\n",
            "Requirement already satisfied: idna>=2.8 in /usr/local/lib/python3.10/dist-packages (from anyio<5,>=3.5.0->groq) (3.7)\n",
            "Requirement already satisfied: exceptiongroup in /usr/local/lib/python3.10/dist-packages (from anyio<5,>=3.5.0->groq) (1.2.1)\n",
            "Requirement already satisfied: certifi in /usr/local/lib/python3.10/dist-packages (from httpx<1,>=0.23.0->groq) (2024.2.2)\n",
            "Collecting httpcore==1.* (from httpx<1,>=0.23.0->groq)\n",
            "  Downloading httpcore-1.0.5-py3-none-any.whl (77 kB)\n",
            "\u001b[2K     \u001b[90m━━━━━━━━━━━━━━━━━━━━━━━━━━━━━━━━━━━━━━━━\u001b[0m \u001b[32m77.9/77.9 kB\u001b[0m \u001b[31m5.7 MB/s\u001b[0m eta \u001b[36m0:00:00\u001b[0m\n",
            "\u001b[?25hCollecting h11<0.15,>=0.13 (from httpcore==1.*->httpx<1,>=0.23.0->groq)\n",
            "  Downloading h11-0.14.0-py3-none-any.whl (58 kB)\n",
            "\u001b[2K     \u001b[90m━━━━━━━━━━━━━━━━━━━━━━━━━━━━━━━━━━━━━━━━\u001b[0m \u001b[32m58.3/58.3 kB\u001b[0m \u001b[31m6.2 MB/s\u001b[0m eta \u001b[36m0:00:00\u001b[0m\n",
            "\u001b[?25hRequirement already satisfied: annotated-types>=0.4.0 in /usr/local/lib/python3.10/dist-packages (from pydantic<3,>=1.9.0->groq) (0.6.0)\n",
            "Requirement already satisfied: pydantic-core==2.18.1 in /usr/local/lib/python3.10/dist-packages (from pydantic<3,>=1.9.0->groq) (2.18.1)\n",
            "Installing collected packages: h11, httpcore, httpx, groq\n",
            "Successfully installed groq-0.5.0 h11-0.14.0 httpcore-1.0.5 httpx-0.27.0\n"
          ]
        }
      ]
    },
    {
      "cell_type": "code",
      "source": [
        "import os\n",
        "\n",
        "from groq import Groq\n",
        "\n",
        "client = Groq(\n",
        "    api_key=API_KEY\n",
        ")\n",
        "\n",
        "chat_completion = client.chat.completions.create(\n",
        "    messages=[\n",
        "        {\n",
        "            \"role\": \"user\",\n",
        "            \"content\": \"What is Flutter\",\n",
        "        }\n",
        "    ],\n",
        "    model=\"llama3-8b-8192\",\n",
        ")\n",
        "\n",
        "print(chat_completion.choices[0].message.content)"
      ],
      "metadata": {
        "colab": {
          "base_uri": "https://localhost:8080/"
        },
        "id": "gag8pKiMkCI0",
        "outputId": "01a50558-8c0b-425f-a509-857972cec06e"
      },
      "execution_count": 9,
      "outputs": [
        {
          "output_type": "stream",
          "name": "stdout",
          "text": [
            "Flutter is an open-source mobile app development framework created by Google. It allows developers to build natively compiled applications for mobile, web, and desktop from a single codebase.\n",
            "\n",
            "Flutter is designed to make it easy to build beautiful, natively compiled applications for mobile and web using the Dart programming language. It provides a rich set of pre-built and customizable widgets, known as Material Design, which can be easily integrated into applications.\n",
            "\n",
            "Key Features of Flutter:\n",
            "\n",
            "1. **Cross-platform**: Flutter allows developers to create applications that can run on multiple platforms, including Android, iOS, Linux, Windows, macOS, and the web, from a single codebase.\n",
            "2. **Natively compiled**: Flutter applications are compiled to native code, which means they can run directly on the device without the need for a virtual machine or emulator.\n",
            "3. **Widgets-based**: Flutter uses a widgets-based architecture, where developers create user interfaces by composing individual widgets.\n",
            "4. **Hot Reload**: Flutter provides a feature called Hot Reload, which allows developers to see the changes they make to their code in real-time, without having to restart the app.\n",
            "5. **Open-source**: Flutter is an open-source project, which means that developers can contribute to the project and access the source code.\n",
            "\n",
            "Benefits of Flutter:\n",
            "\n",
            "1. **Faster development**: Flutter allows developers to build applications faster, thanks to its widgets-based architecture and hot reload feature.\n",
            "2. **Easier maintenance**: With Flutter, developers can reuse code across multiple platforms, which reduces the need for platform-specific code and makes maintenance easier.\n",
            "3. **Better performance**: Flutter applications can take advantage of native platform features, such as GPU acceleration and multi-core processing, which can result in better performance and faster response times.\n",
            "4. **Cost-effective**: Flutter applications can be developed for a fraction of the cost of native development, as developers can reuse code across platforms.\n",
            "\n",
            "Common use cases for Flutter include:\n",
            "\n",
            "1. **Mobile apps**: Flutter can be used to build mobile apps for Android and iOS.\n",
            "2. **Web applications**: Flutter can be used to build web applications using the Flutter Web framework.\n",
            "3. **Desktop applications**: Flutter can be used to build desktop applications for Windows, macOS, and Linux.\n",
            "4. **IoT applications**: Flutter can be used to build IoT applications that require a user interface.\n",
            "\n",
            "In summary, Flutter is a powerful and flexible framework that allows developers to build beautiful, natively compiled applications for multiple platforms from a single codebase.\n"
          ]
        }
      ]
    }
  ]
}